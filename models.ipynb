{
 "cells": [
  {
   "cell_type": "code",
   "execution_count": 1,
   "metadata": {},
   "outputs": [],
   "source": [
    "import numpy as np \n",
    "import pandas as pd\n",
    "import matplotlib.pyplot as plt\n",
    "import seaborn as sns\n",
    "%matplotlib inline\n",
    "from sklearn.feature_extraction.text import TfidfVectorizer\n",
    "from nltk.corpus import stopwords\n",
    "from nltk.util import ngrams\n",
    "import re\n",
    "plt.style.use('ggplot')\n",
    "stop=set(stopwords.words('english'))\n",
    "## ADD STOPWORDS\n",
    "stop = set(list(stop) + [\"http\",\"https\", \"s\", \"nt\", \"m\"])"
   ]
  },
  {
   "cell_type": "code",
   "execution_count": 2,
   "metadata": {},
   "outputs": [],
   "source": [
    "import warnings\n",
    "warnings.filterwarnings(\"ignore\")"
   ]
  },
  {
   "cell_type": "code",
   "execution_count": 3,
   "metadata": {},
   "outputs": [
    {
     "data": {
      "text/html": [
       "<div>\n",
       "<style scoped>\n",
       "    .dataframe tbody tr th:only-of-type {\n",
       "        vertical-align: middle;\n",
       "    }\n",
       "\n",
       "    .dataframe tbody tr th {\n",
       "        vertical-align: top;\n",
       "    }\n",
       "\n",
       "    .dataframe thead th {\n",
       "        text-align: right;\n",
       "    }\n",
       "</style>\n",
       "<table border=\"1\" class=\"dataframe\">\n",
       "  <thead>\n",
       "    <tr style=\"text-align: right;\">\n",
       "      <th></th>\n",
       "      <th>id</th>\n",
       "      <th>keyword</th>\n",
       "      <th>location</th>\n",
       "      <th>text</th>\n",
       "      <th>target</th>\n",
       "    </tr>\n",
       "  </thead>\n",
       "  <tbody>\n",
       "    <tr>\n",
       "      <th>0</th>\n",
       "      <td>1</td>\n",
       "      <td>NaN</td>\n",
       "      <td>NaN</td>\n",
       "      <td>Our Deeds are the Reason of this #earthquake M...</td>\n",
       "      <td>1</td>\n",
       "    </tr>\n",
       "    <tr>\n",
       "      <th>1</th>\n",
       "      <td>4</td>\n",
       "      <td>NaN</td>\n",
       "      <td>NaN</td>\n",
       "      <td>Forest fire near La Ronge Sask. Canada</td>\n",
       "      <td>1</td>\n",
       "    </tr>\n",
       "    <tr>\n",
       "      <th>2</th>\n",
       "      <td>5</td>\n",
       "      <td>NaN</td>\n",
       "      <td>NaN</td>\n",
       "      <td>All residents asked to 'shelter in place' are ...</td>\n",
       "      <td>1</td>\n",
       "    </tr>\n",
       "    <tr>\n",
       "      <th>3</th>\n",
       "      <td>6</td>\n",
       "      <td>NaN</td>\n",
       "      <td>NaN</td>\n",
       "      <td>13,000 people receive #wildfires evacuation or...</td>\n",
       "      <td>1</td>\n",
       "    </tr>\n",
       "    <tr>\n",
       "      <th>4</th>\n",
       "      <td>7</td>\n",
       "      <td>NaN</td>\n",
       "      <td>NaN</td>\n",
       "      <td>Just got sent this photo from Ruby #Alaska as ...</td>\n",
       "      <td>1</td>\n",
       "    </tr>\n",
       "  </tbody>\n",
       "</table>\n",
       "</div>"
      ],
      "text/plain": [
       "   id keyword location                                               text  \\\n",
       "0   1     NaN      NaN  Our Deeds are the Reason of this #earthquake M...   \n",
       "1   4     NaN      NaN             Forest fire near La Ronge Sask. Canada   \n",
       "2   5     NaN      NaN  All residents asked to 'shelter in place' are ...   \n",
       "3   6     NaN      NaN  13,000 people receive #wildfires evacuation or...   \n",
       "4   7     NaN      NaN  Just got sent this photo from Ruby #Alaska as ...   \n",
       "\n",
       "   target  \n",
       "0       1  \n",
       "1       1  \n",
       "2       1  \n",
       "3       1  \n",
       "4       1  "
      ]
     },
     "execution_count": 3,
     "metadata": {},
     "output_type": "execute_result"
    }
   ],
   "source": [
    "train_df = pd.read_csv('train.csv')\n",
    "train_df.head()"
   ]
  },
  {
   "cell_type": "code",
   "execution_count": 4,
   "metadata": {},
   "outputs": [],
   "source": [
    "from sklearn.model_selection import train_test_split\n",
    "x_train,x_val,y_train,y_val = train_test_split(train_df.text,train_df.target, test_size=0.33, random_state=42)"
   ]
  },
  {
   "cell_type": "code",
   "execution_count": 5,
   "metadata": {},
   "outputs": [],
   "source": [
    "tfidf = TfidfVectorizer(analyzer = 'word', stop_words = stop, ngram_range=(1, 3), min_df = 5, sublinear_tf=True)"
   ]
  },
  {
   "cell_type": "code",
   "execution_count": 6,
   "metadata": {},
   "outputs": [],
   "source": [
    "train_tfidf = tfidf.fit_transform(x_train)\n",
    "val_tfidf = tfidf.transform(x_val)"
   ]
  },
  {
   "cell_type": "code",
   "execution_count": 17,
   "metadata": {},
   "outputs": [
    {
     "data": {
      "text/plain": [
       "['tfidfvectorizer.pkl']"
      ]
     },
     "execution_count": 17,
     "metadata": {},
     "output_type": "execute_result"
    }
   ],
   "source": [
    "joblib.dump(tfidf, 'tfidfvectorizer.pkl')"
   ]
  },
  {
   "cell_type": "code",
   "execution_count": 7,
   "metadata": {},
   "outputs": [],
   "source": [
    "from sklearn import linear_model\n",
    "from sklearn.svm import LinearSVC\n",
    "from sklearn import model_selection\n",
    "\n",
    "clf_linsvm = linear_model.SGDClassifier(loss='hinge', random_state = 42, class_weight = 'balanced')\n",
    "clf_logit = linear_model.SGDClassifier(loss='log', random_state = 42, class_weight = 'balanced')\n"
   ]
  },
  {
   "cell_type": "code",
   "execution_count": 8,
   "metadata": {},
   "outputs": [
    {
     "name": "stdout",
     "output_type": "stream",
     "text": [
      "SVM scores\n",
      "{'fit_time': array([0.65231514, 0.00799727, 0.00900531]),\n",
      " 'score_time': array([0.00800109, 0.00800347, 0.00699353]),\n",
      " 'test_accuracy': array([0.7542622 , 0.76411765, 0.74749853]),\n",
      " 'test_f1': array([0.71832884, 0.71620665, 0.71720501]),\n",
      " 'test_roc_auc': array([0.81612372, 0.8215396 , 0.80804026]),\n",
      " 'train_accuracy': array([0.91644601, 0.92058824, 0.91943546]),\n",
      " 'train_f1': array([0.90320382, 0.90689655, 0.90743243]),\n",
      " 'train_roc_auc': array([0.96563099, 0.96375922, 0.96793139])}\n",
      "Logitistic Scores\n",
      "{'fit_time': array([0.01100039, 0.00699711, 0.00999832]),\n",
      " 'score_time': array([0.00500083, 0.00600147, 0.00500083]),\n",
      " 'test_accuracy': array([0.75720165, 0.77647059, 0.76397881]),\n",
      " 'test_f1': array([0.7241149 , 0.73163842, 0.73032952]),\n",
      " 'test_roc_auc': array([0.83242067, 0.84242995, 0.82730443]),\n",
      " 'train_accuracy': array([0.90556046, 0.90764706, 0.90914437]),\n",
      " 'train_f1': array([0.89188279, 0.89202201, 0.89514761]),\n",
      " 'train_roc_auc': array([0.96899198, 0.96789933, 0.97023396])}\n"
     ]
    }
   ],
   "source": [
    "import pprint\n",
    "svmscores = model_selection.cross_validate(clf_linsvm, train_tfidf, y_train, cv=3, scoring=(\"f1\", \"accuracy\",\"roc_auc\"))\n",
    "print('SVM scores')\n",
    "pprint.pprint(svmscores)\n",
    "logitscores = model_selection.cross_validate(clf_logit, train_tfidf, y_train, cv=3, scoring=(\"f1\", \"accuracy\",\"roc_auc\"))\n",
    "print('Logitistic Scores')\n",
    "pprint.pprint(logitscores)"
   ]
  },
  {
   "cell_type": "code",
   "execution_count": 9,
   "metadata": {},
   "outputs": [],
   "source": [
    "clf_logistic = linear_model.LogisticRegression(class_weight = 'balanced',random_state = 42)\n",
    "clf_svm = LinearSVC(class_weight = 'balanced',random_state = 42, dual = False )"
   ]
  },
  {
   "cell_type": "code",
   "execution_count": 10,
   "metadata": {},
   "outputs": [
    {
     "name": "stdout",
     "output_type": "stream",
     "text": [
      "SVM\n",
      "{'fit_time': array([0.1530664 , 0.02700186, 0.02300143]),\n",
      " 'score_time': array([0.00700092, 0.00500083, 0.00500035]),\n",
      " 'test_accuracy': array([0.74779541, 0.75529412, 0.75632725]),\n",
      " 'test_f1': array([0.71072151, 0.70662906, 0.72027027]),\n",
      " 'test_roc_auc': array([0.81477303, 0.82259984, 0.8137581 ]),\n",
      " 'train_accuracy': array([0.93821712, 0.93617647, 0.93737136]),\n",
      " 'train_f1': array([0.92822967, 0.92616536, 0.92677896]),\n",
      " 'train_roc_auc': array([0.98409372, 0.98352875, 0.98502239])}\n",
      "LOGIT\n",
      "{'fit_time': array([0.0180161 , 0.01700377, 0.01700091]),\n",
      " 'score_time': array([0.00498605, 0.00800133, 0.00500011]),\n",
      " 'test_accuracy': array([0.77307466, 0.78882353, 0.77339612]),\n",
      " 'test_f1': array([0.73342541, 0.74593064, 0.73429952]),\n",
      " 'test_roc_auc': array([0.84163462, 0.85414191, 0.83315215]),\n",
      " 'train_accuracy': array([0.87878788, 0.87882353, 0.88356366]),\n",
      " 'train_f1': array([0.85763649, 0.85743945, 0.86307054]),\n",
      " 'train_roc_auc': array([0.94881295, 0.94533354, 0.95010798])}\n"
     ]
    }
   ],
   "source": [
    "svmscore = model_selection.cross_validate(clf_svm, train_tfidf, y_train, cv=3, scoring=(\"f1\", \"accuracy\",\"roc_auc\"))\n",
    "print('SVM')\n",
    "pprint.pprint(svmscore)\n",
    "logitscore = model_selection.cross_validate(clf_logistic, train_tfidf, y_train, cv=3, scoring=(\"f1\", \"accuracy\",\"roc_auc\"))\n",
    "print('LOGIT')\n",
    "pprint.pprint(logitscore)"
   ]
  },
  {
   "cell_type": "code",
   "execution_count": 11,
   "metadata": {},
   "outputs": [],
   "source": [
    "from sklearn.tree import DecisionTreeClassifier\n",
    "from sklearn.ensemble import RandomForestClassifier\n",
    "\n",
    "clf_dt = DecisionTreeClassifier( max_features='auto',random_state=42,class_weight = 'balanced')\n",
    "clf_rf = RandomForestClassifier(max_features='auto',random_state=42,class_weight = 'balanced')"
   ]
  },
  {
   "cell_type": "code",
   "execution_count": 12,
   "metadata": {},
   "outputs": [
    {
     "name": "stdout",
     "output_type": "stream",
     "text": [
      "Decision Trees\n",
      "{'fit_time': array([0.07400012, 0.04800081, 0.04300404]),\n",
      " 'score_time': array([0.01598835, 0.01000023, 0.00999951]),\n",
      " 'test_accuracy': array([0.69782481, 0.69058824, 0.70453208]),\n",
      " 'test_f1': array([0.63700565, 0.63268156, 0.64295875]),\n",
      " 'test_roc_auc': array([0.68948254, 0.689693  , 0.70207113]),\n",
      " 'train_accuracy': array([0.98734922, 0.98676471, 0.98500441]),\n",
      " 'train_f1': array([0.98536917, 0.98474059, 0.98276445]),\n",
      " 'train_roc_auc': array([0.9995711 , 0.99957238, 0.99949376])}\n",
      "Random Forest\n",
      "{'fit_time': array([0.25603962, 0.28773737, 0.29781413]),\n",
      " 'score_time': array([0.0660069 , 0.04600549, 0.04499459]),\n",
      " 'test_accuracy': array([0.74779541, 0.74058824, 0.74749853]),\n",
      " 'test_f1': array([0.66510539, 0.66155027, 0.66872587]),\n",
      " 'test_roc_auc': array([0.80572245, 0.79169786, 0.80686776]),\n",
      " 'train_accuracy': array([0.97146219, 0.97088235, 0.96853867]),\n",
      " 'train_f1': array([0.96628432, 0.96570835, 0.96311617]),\n",
      " 'train_roc_auc': array([0.99730122, 0.9967636 , 0.99600239])}\n"
     ]
    }
   ],
   "source": [
    "svmscore = model_selection.cross_validate(clf_dt, train_tfidf, y_train, cv=3, scoring=(\"f1\", \"accuracy\",\"roc_auc\"))\n",
    "print('Decision Trees')\n",
    "pprint.pprint(svmscore)\n",
    "logitscore = model_selection.cross_validate(clf_rf, train_tfidf, y_train, cv=3, scoring=(\"f1\", \"accuracy\",\"roc_auc\"))\n",
    "print('Random Forest')\n",
    "pprint.pprint(logitscore)"
   ]
  },
  {
   "cell_type": "code",
   "execution_count": 13,
   "metadata": {},
   "outputs": [
    {
     "data": {
      "text/plain": [
       "LinearSVC(C=1.0, class_weight='balanced', dual=False, fit_intercept=True,\n",
       "     intercept_scaling=1, loss='squared_hinge', max_iter=1000,\n",
       "     multi_class='ovr', penalty='l2', random_state=42, tol=0.0001,\n",
       "     verbose=0)"
      ]
     },
     "execution_count": 13,
     "metadata": {},
     "output_type": "execute_result"
    }
   ],
   "source": [
    "clf_svm.fit(train_tfidf,y_train)"
   ]
  },
  {
   "cell_type": "code",
   "execution_count": 14,
   "metadata": {},
   "outputs": [
    {
     "name": "stdout",
     "output_type": "stream",
     "text": [
      "Accuracy: 0.7747711898129725\n",
      "F1 Score: 0.7367441860465116\n",
      "AUC: 0.7705116139795526\n"
     ]
    }
   ],
   "source": [
    "from sklearn import metrics\n",
    "\n",
    "y_pred = clf_svm.predict(val_tfidf)\n",
    "\n",
    "print('Accuracy:' , metrics.accuracy_score(y_val,y_pred))\n",
    "print('F1 Score:' , metrics.f1_score(y_val,y_pred))\n",
    "print('AUC:' , metrics.roc_auc_score(y_val,y_pred))\n"
   ]
  },
  {
   "cell_type": "code",
   "execution_count": 15,
   "metadata": {},
   "outputs": [
    {
     "data": {
      "text/plain": [
       "['model.pkl']"
      ]
     },
     "execution_count": 15,
     "metadata": {},
     "output_type": "execute_result"
    }
   ],
   "source": [
    "from sklearn.externals import joblib\n",
    "joblib.dump(clf_svm, 'model.pkl')"
   ]
  },
  {
   "cell_type": "code",
   "execution_count": 16,
   "metadata": {},
   "outputs": [
    {
     "name": "stdout",
     "output_type": "stream",
     "text": [
      "Accuracy: 0.7747711898129725\n",
      "F1 Score: 0.7367441860465116\n",
      "AUC: 0.7705116139795526\n"
     ]
    }
   ],
   "source": [
    "model = joblib.load('model.pkl')\n",
    "y_pred = model.predict(val_tfidf)\n",
    "\n",
    "print('Accuracy:' , metrics.accuracy_score(y_val,y_pred))\n",
    "print('F1 Score:' , metrics.f1_score(y_val,y_pred))\n",
    "print('AUC:' , metrics.roc_auc_score(y_val,y_pred))"
   ]
  },
  {
   "cell_type": "code",
   "execution_count": 18,
   "metadata": {},
   "outputs": [
    {
     "name": "stdout",
     "output_type": "stream",
     "text": [
      "Accuracy: 0.7747711898129725\n",
      "F1 Score: 0.7367441860465116\n",
      "AUC: 0.7705116139795526\n"
     ]
    }
   ],
   "source": [
    "vect = joblib.load('tfidfvectorizer.pkl')\n",
    "val_tfidf = vect.transform(x_val)\n",
    "y_pred = model.predict(val_tfidf)\n",
    "\n",
    "print('Accuracy:' , metrics.accuracy_score(y_val,y_pred))\n",
    "print('F1 Score:' , metrics.f1_score(y_val,y_pred))\n",
    "print('AUC:' , metrics.roc_auc_score(y_val,y_pred))"
   ]
  },
  {
   "cell_type": "code",
   "execution_count": null,
   "metadata": {},
   "outputs": [],
   "source": []
  }
 ],
 "metadata": {
  "kernelspec": {
   "display_name": "Python 3",
   "language": "python",
   "name": "python3"
  },
  "language_info": {
   "codemirror_mode": {
    "name": "ipython",
    "version": 3
   },
   "file_extension": ".py",
   "mimetype": "text/x-python",
   "name": "python",
   "nbconvert_exporter": "python",
   "pygments_lexer": "ipython3",
   "version": "3.7.1"
  }
 },
 "nbformat": 4,
 "nbformat_minor": 2
}
